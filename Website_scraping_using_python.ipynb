{
  "nbformat": 4,
  "nbformat_minor": 0,
  "metadata": {
    "colab": {
      "name": "Website_scraping_using_python.ipynb",
      "provenance": [],
      "authorship_tag": "ABX9TyPtbiDfpi2FweFulhdSVRyz",
      "include_colab_link": true
    },
    "kernelspec": {
      "name": "python3",
      "display_name": "Python 3"
    },
    "language_info": {
      "name": "python"
    }
  },
  "cells": [
    {
      "cell_type": "markdown",
      "metadata": {
        "id": "view-in-github",
        "colab_type": "text"
      },
      "source": [
        "<a href=\"https://colab.research.google.com/github/vvvsk91/Vamsi/blob/master/Website_scraping_using_python.ipynb\" target=\"_parent\"><img src=\"https://colab.research.google.com/assets/colab-badge.svg\" alt=\"Open In Colab\"/></a>"
      ]
    },
    {
      "cell_type": "code",
      "metadata": {
        "id": "MZVl4nHzVogq"
      },
      "source": [
        "from bs4 import BeautifulSoup\n",
        "import requests\n",
        "import csv"
      ],
      "execution_count": null,
      "outputs": []
    },
    {
      "cell_type": "code",
      "metadata": {
        "id": "EFK6OWk0Vuva"
      },
      "source": [
        "source = requests.get('http://coreyms.com').text"
      ],
      "execution_count": null,
      "outputs": []
    },
    {
      "cell_type": "code",
      "metadata": {
        "id": "qoGGiyeCWA_a"
      },
      "source": [
        "soup = BeautifulSoup(source,'lxml')\n",
        "\n",
        "#print(soup.prettify())"
      ],
      "execution_count": null,
      "outputs": []
    },
    {
      "cell_type": "code",
      "metadata": {
        "id": "Q98dEmC2WxTk"
      },
      "source": [
        "### 1st grab the 1st post from that website"
      ],
      "execution_count": null,
      "outputs": []
    },
    {
      "cell_type": "code",
      "metadata": {
        "colab": {
          "base_uri": "https://localhost:8080/"
        },
        "id": "Ahql9v6_aUB_",
        "outputId": "e14aee7c-4580-487f-b4e3-b8f1efa117a9"
      },
      "source": [
        "article=soup.find('article')\n",
        "print (article.prettify())"
      ],
      "execution_count": null,
      "outputs": [
        {
          "output_type": "stream",
          "name": "stdout",
          "text": [
            "<article class=\"post-1670 post type-post status-publish format-standard has-post-thumbnail category-development category-python tag-gzip tag-shutil tag-zip tag-zipfile entry\" itemscope=\"\" itemtype=\"https://schema.org/CreativeWork\">\n",
            " <header class=\"entry-header\">\n",
            "  <h2 class=\"entry-title\" itemprop=\"headline\">\n",
            "   <a class=\"entry-title-link\" href=\"https://coreyms.com/development/python/python-tutorial-zip-files-creating-and-extracting-zip-archives\" rel=\"bookmark\">\n",
            "    Python Tutorial: Zip Files – Creating and Extracting Zip Archives\n",
            "   </a>\n",
            "  </h2>\n",
            "  <p class=\"entry-meta\">\n",
            "   <time class=\"entry-time\" datetime=\"2019-11-19T13:02:37-05:00\" itemprop=\"datePublished\">\n",
            "    November 19, 2019\n",
            "   </time>\n",
            "   by\n",
            "   <span class=\"entry-author\" itemprop=\"author\" itemscope=\"\" itemtype=\"https://schema.org/Person\">\n",
            "    <a class=\"entry-author-link\" href=\"https://coreyms.com/author/coreymschafer\" itemprop=\"url\" rel=\"author\">\n",
            "     <span class=\"entry-author-name\" itemprop=\"name\">\n",
            "      Corey Schafer\n",
            "     </span>\n",
            "    </a>\n",
            "   </span>\n",
            "   <span class=\"entry-comments-link\">\n",
            "    <a href=\"https://coreyms.com/development/python/python-tutorial-zip-files-creating-and-extracting-zip-archives#respond\">\n",
            "     <span class=\"dsq-postid\" data-dsqidentifier=\"1670 http://coreyms.com/?p=1670\">\n",
            "      Leave a Comment\n",
            "     </span>\n",
            "    </a>\n",
            "   </span>\n",
            "  </p>\n",
            " </header>\n",
            " <div class=\"entry-content\" itemprop=\"text\">\n",
            "  <p>\n",
            "   In this video, we will be learning how to create and extract zip archives. We will start by using the zipfile module, and then we will see how to do this using the shutil module. We will learn how to do this with single files and directories, as well as learning how to use gzip as well. Let’s get started…\n",
            "   <br/>\n",
            "  </p>\n",
            "  <span class=\"embed-youtube\" style=\"text-align:center; display: block;\">\n",
            "   <iframe allowfullscreen=\"true\" class=\"youtube-player\" height=\"360\" sandbox=\"allow-scripts allow-same-origin allow-popups allow-presentation\" src=\"https://www.youtube.com/embed/z0gguhEmWiY?version=3&amp;rel=1&amp;showsearch=0&amp;showinfo=1&amp;iv_load_policy=1&amp;fs=1&amp;hl=en-US&amp;autohide=2&amp;wmode=transparent\" style=\"border:0;\" width=\"640\">\n",
            "   </iframe>\n",
            "  </span>\n",
            " </div>\n",
            " <footer class=\"entry-footer\">\n",
            "  <p class=\"entry-meta\">\n",
            "   <span class=\"entry-categories\">\n",
            "    Filed Under:\n",
            "    <a href=\"https://coreyms.com/category/development\" rel=\"category tag\">\n",
            "     Development\n",
            "    </a>\n",
            "    ,\n",
            "    <a href=\"https://coreyms.com/category/development/python\" rel=\"category tag\">\n",
            "     Python\n",
            "    </a>\n",
            "   </span>\n",
            "   <span class=\"entry-tags\">\n",
            "    Tagged With:\n",
            "    <a href=\"https://coreyms.com/tag/gzip\" rel=\"tag\">\n",
            "     gzip\n",
            "    </a>\n",
            "    ,\n",
            "    <a href=\"https://coreyms.com/tag/shutil\" rel=\"tag\">\n",
            "     shutil\n",
            "    </a>\n",
            "    ,\n",
            "    <a href=\"https://coreyms.com/tag/zip\" rel=\"tag\">\n",
            "     zip\n",
            "    </a>\n",
            "    ,\n",
            "    <a href=\"https://coreyms.com/tag/zipfile\" rel=\"tag\">\n",
            "     zipfile\n",
            "    </a>\n",
            "   </span>\n",
            "  </p>\n",
            " </footer>\n",
            "</article>\n",
            "\n"
          ]
        }
      ]
    },
    {
      "cell_type": "code",
      "metadata": {
        "colab": {
          "base_uri": "https://localhost:8080/"
        },
        "id": "Et1x8Kuncc7U",
        "outputId": "c335d28a-1bdb-4006-84d1-8482809d6089"
      },
      "source": [
        "headline = article.h2.a.text\n",
        "print (headline)"
      ],
      "execution_count": null,
      "outputs": [
        {
          "output_type": "stream",
          "name": "stdout",
          "text": [
            "Python Tutorial: Zip Files – Creating and Extracting Zip Archives\n"
          ]
        }
      ]
    },
    {
      "cell_type": "code",
      "metadata": {
        "colab": {
          "base_uri": "https://localhost:8080/"
        },
        "id": "0OnQTE3LbHQj",
        "outputId": "54a14ac4-2453-4dbd-ca8e-454fbde22466"
      },
      "source": [
        "summary = article.find('div', class_='entry-content').p.text\n",
        "print (summary)\n"
      ],
      "execution_count": null,
      "outputs": [
        {
          "output_type": "stream",
          "name": "stdout",
          "text": [
            "In this video, we will be learning how to create and extract zip archives. We will start by using the zipfile module, and then we will see how to do this using the shutil module. We will learn how to do this with single files and directories, as well as learning how to use gzip as well. Let’s get started…\n"
          ]
        }
      ]
    },
    {
      "cell_type": "code",
      "metadata": {
        "colab": {
          "base_uri": "https://localhost:8080/"
        },
        "id": "DAMx9AJzcFgf",
        "outputId": "b0272c97-7910-4f68-d6bc-9c4e0c950ad2"
      },
      "source": [
        "vid_src = article.find('iframe', class_= 'youtube-player')['src']\n",
        "print(vid_src)"
      ],
      "execution_count": null,
      "outputs": [
        {
          "output_type": "stream",
          "name": "stdout",
          "text": [
            "https://www.youtube.com/embed/z0gguhEmWiY?version=3&rel=1&showsearch=0&showinfo=1&iv_load_policy=1&fs=1&hl=en-US&autohide=2&wmode=transparent\n"
          ]
        }
      ]
    },
    {
      "cell_type": "code",
      "metadata": {
        "colab": {
          "base_uri": "https://localhost:8080/"
        },
        "id": "c0jv_ELRcYKz",
        "outputId": "35823144-cd31-4a6b-f9e2-96a827968b7b"
      },
      "source": [
        "vid_id= vid_src.split('/')[4]\n",
        "vid_id=vid_id.split('?')[0]\n",
        "print(vid_id)"
      ],
      "execution_count": null,
      "outputs": [
        {
          "output_type": "stream",
          "name": "stdout",
          "text": [
            "z0gguhEmWiY\n"
          ]
        }
      ]
    },
    {
      "cell_type": "code",
      "metadata": {
        "id": "OJxJfOYvfFiA",
        "colab": {
          "base_uri": "https://localhost:8080/"
        },
        "outputId": "06a52769-490d-46e8-fe6f-b7f2c36e7637"
      },
      "source": [
        "yt_link=f'http://youtube.com/watch?v={vid_id}'\n",
        "print(yt_link)"
      ],
      "execution_count": null,
      "outputs": [
        {
          "output_type": "stream",
          "name": "stdout",
          "text": [
            "http://youtube.com/watch?v=z0gguhEmWiY\n"
          ]
        }
      ]
    },
    {
      "cell_type": "code",
      "metadata": {
        "colab": {
          "base_uri": "https://localhost:8080/"
        },
        "id": "sWt1U53qfVvj",
        "outputId": "65f3d09f-9658-47ad-d1e9-c0c2c7cd5caa"
      },
      "source": [
        "## my method\n",
        "for article in soup.find_all('article'):\n",
        "\n",
        "  headline = article.h2.a.text\n",
        "  print(headline)\n",
        "  summary = article.find('div', class_='entry-content').p.text\n",
        "  print(summary)\n",
        "  vid_src = article.find('iframe')\n",
        "  if vid_src == None:\n",
        "    print('None')\n",
        "  else:\n",
        "    vid_src = article.find('iframe', class_= 'youtube-player')['src']\n",
        "    vid_id= vid_src.split('/')[4]\n",
        "    vid_id=vid_id.split('?')[0]\n",
        "    yt_link=f'http://youtube.com/watch?v={vid_id}'\n",
        "    print(yt_link)"
      ],
      "execution_count": null,
      "outputs": [
        {
          "output_type": "stream",
          "name": "stdout",
          "text": [
            "Python Tutorial: Zip Files – Creating and Extracting Zip Archives\n",
            "In this video, we will be learning how to create and extract zip archives. We will start by using the zipfile module, and then we will see how to do this using the shutil module. We will learn how to do this with single files and directories, as well as learning how to use gzip as well. Let’s get started…\n",
            "http://youtube.com/watch?v=z0gguhEmWiY\n",
            "Python Data Science Tutorial: Analyzing the 2019 Stack Overflow Developer Survey\n",
            "In this Python Programming video, we will be learning how to download and analyze real-world data from the 2019 Stack Overflow Developer Survey. This is terrific practice for anyone getting into the data science field. We will learn different ways to analyze this data and also some best practices. Let’s get started…\n",
            "http://youtube.com/watch?v=_P7X8tMplsw\n",
            "Python Multiprocessing Tutorial: Run Code in Parallel Using the Multiprocessing Module\n",
            "In this Python Programming video, we will be learning how to run code in parallel using the multiprocessing module. We will also look at how to process multiple high-resolution images at the same time using a ProcessPoolExecutor from the concurrent.futures module. Let’s get started…\n",
            "http://youtube.com/watch?v=fKl2JW_qrso\n",
            "Python Threading Tutorial: Run Code Concurrently Using the Threading Module\n",
            "In this Python Programming video, we will be learning how to run threads concurrently using the threading module. We will also look at how to download multiple high-resolution images online using a ThreadPoolExecutor from the concurrent.futures module. Let’s get started…\n",
            "http://youtube.com/watch?v=IEEhzQoKtQU\n",
            "Update (2019-09-03)\n",
            "Hey everyone. I wanted to give you an update on my videos. I will be releasing videos on threading and multiprocessing within the next week. Thanks so much for your patience. I currently have a temporary recording studio setup at my Airbnb that will allow me to record and edit the threading/multiprocessing videos. I am going to be moving into my new house in 10 days and once I have my recording studio setup then you can expect much faster video releases. I really appreciate how patient everyone has been while I go through this move, especially those of you who are contributing monthly through YouTube \n",
            "None\n",
            "Python Quick Tip: The Difference Between “==” and “is” (Equality vs Identity)\n",
            "In this Python Programming Tutorial, we will be learning the difference between using “==” and the “is” keyword when doing comparisons. The difference between these is that “==” checks to see if values are equal, and the “is” keyword checks their identity, which means it’s going to check if the values are identical in terms of being the same object in memory. We’ll learn more in the video. Let’s get started…\n",
            "http://youtube.com/watch?v=mO_dS3rXDIs\n",
            "Python Tutorial: Calling External Commands Using the Subprocess Module\n",
            "In this Python Programming Tutorial, we will be learning how to run external commands using the subprocess module from the standard library. We will learn how to run commands, capture the output, handle errors, and also how to pipe output into other commands. Let’s get started…\n",
            "http://youtube.com/watch?v=2Fp1N6dof0Y\n",
            "Visual Studio Code (Windows) – Setting up a Python Development Environment and Complete Overview\n",
            "In this Python Programming Tutorial, we will be learning how to set up a Python development environment in VSCode on Windows. VSCode is a very nice free editor for writing Python applications and many developers are now switching over to this editor. In this video, we will learn how to install VSCode, get the Python extension installed, how to change Python interpreters, create virtual environments, format/lint our code, how to use Git within VSCode, how to debug our programs, how unit testing works, and more. We have a lot to cover, so let’s go ahead and get started…\n",
            "http://youtube.com/watch?v=-nh9rCzPJ20\n",
            "Visual Studio Code (Mac) – Setting up a Python Development Environment and Complete Overview\n",
            "In this Python Programming Tutorial, we will be learning how to set up a Python development environment in VSCode on MacOS. VSCode is a very nice free editor for writing Python applications and many developers are now switching over to this editor. In this video, we will learn how to install VSCode, get the Python extension installed, how to change Python interpreters, create virtual environments, format/lint our code, how to use Git within VSCode, how to debug our programs, how unit testing works, and more. We have a lot to cover, so let’s go ahead and get started…\n",
            "http://youtube.com/watch?v=06I63_p-2A4\n",
            "Clarifying the Issues with Mutable Default Arguments\n",
            "In this Python Programming Tutorial, we will be clarifying the issues with mutable default arguments. We discussed this in my last video titled “5 Common Python Mistakes and How to Fix Them”, but I received many comments from people who were still confused. So we will be doing a deeper dive to explain exactly what is going on here. Let’s get started…\n",
            "http://youtube.com/watch?v=_JGmemuINww\n"
          ]
        }
      ]
    },
    {
      "cell_type": "code",
      "metadata": {
        "colab": {
          "base_uri": "https://localhost:8080/"
        },
        "id": "Sz7SvMrIrez6",
        "outputId": "343945c5-c9bb-405a-c290-93c37f01e214"
      },
      "source": [
        "## online method\n",
        "csv_file = open('Website_scrape.csv','w')\n",
        "csv_writer= csv.writer(csv_file)\n",
        "csv_writer.writerow(['Title','Summary','Youtube_link'])\n",
        "\n",
        "for article in soup.find_all('article'):\n",
        "\n",
        "  headline = article.h2.a.text\n",
        "  print(headline)\n",
        "  summary = article.find('div', class_='entry-content').p.text\n",
        "  print(summary)\n",
        "  try:\n",
        "    vid_src = article.find('iframe', class_= 'youtube-player')['src']\n",
        "    vid_id= vid_src.split('/')[4]\n",
        "    vid_id=vid_id.split('?')[0]\n",
        "    yt_link=f'http://youtube.com/watch?v={vid_id}'\n",
        "  except Exception as e:\n",
        "    yt_link= None\n",
        "  print(yt_link)\n",
        "  print()\n",
        "  csv_writer.writerow([headline, summary, yt_link])\n",
        "\n",
        "csv_file.close()\n"
      ],
      "execution_count": 98,
      "outputs": [
        {
          "output_type": "stream",
          "name": "stdout",
          "text": [
            "Python Tutorial: Zip Files – Creating and Extracting Zip Archives\n",
            "In this video, we will be learning how to create and extract zip archives. We will start by using the zipfile module, and then we will see how to do this using the shutil module. We will learn how to do this with single files and directories, as well as learning how to use gzip as well. Let’s get started…\n",
            "http://youtube.com/watch?v=z0gguhEmWiY\n",
            "\n",
            "Python Data Science Tutorial: Analyzing the 2019 Stack Overflow Developer Survey\n",
            "In this Python Programming video, we will be learning how to download and analyze real-world data from the 2019 Stack Overflow Developer Survey. This is terrific practice for anyone getting into the data science field. We will learn different ways to analyze this data and also some best practices. Let’s get started…\n",
            "http://youtube.com/watch?v=_P7X8tMplsw\n",
            "\n",
            "Python Multiprocessing Tutorial: Run Code in Parallel Using the Multiprocessing Module\n",
            "In this Python Programming video, we will be learning how to run code in parallel using the multiprocessing module. We will also look at how to process multiple high-resolution images at the same time using a ProcessPoolExecutor from the concurrent.futures module. Let’s get started…\n",
            "http://youtube.com/watch?v=fKl2JW_qrso\n",
            "\n",
            "Python Threading Tutorial: Run Code Concurrently Using the Threading Module\n",
            "In this Python Programming video, we will be learning how to run threads concurrently using the threading module. We will also look at how to download multiple high-resolution images online using a ThreadPoolExecutor from the concurrent.futures module. Let’s get started…\n",
            "http://youtube.com/watch?v=IEEhzQoKtQU\n",
            "\n",
            "Update (2019-09-03)\n",
            "Hey everyone. I wanted to give you an update on my videos. I will be releasing videos on threading and multiprocessing within the next week. Thanks so much for your patience. I currently have a temporary recording studio setup at my Airbnb that will allow me to record and edit the threading/multiprocessing videos. I am going to be moving into my new house in 10 days and once I have my recording studio setup then you can expect much faster video releases. I really appreciate how patient everyone has been while I go through this move, especially those of you who are contributing monthly through YouTube \n",
            "None\n",
            "\n",
            "Python Quick Tip: The Difference Between “==” and “is” (Equality vs Identity)\n",
            "In this Python Programming Tutorial, we will be learning the difference between using “==” and the “is” keyword when doing comparisons. The difference between these is that “==” checks to see if values are equal, and the “is” keyword checks their identity, which means it’s going to check if the values are identical in terms of being the same object in memory. We’ll learn more in the video. Let’s get started…\n",
            "http://youtube.com/watch?v=mO_dS3rXDIs\n",
            "\n",
            "Python Tutorial: Calling External Commands Using the Subprocess Module\n",
            "In this Python Programming Tutorial, we will be learning how to run external commands using the subprocess module from the standard library. We will learn how to run commands, capture the output, handle errors, and also how to pipe output into other commands. Let’s get started…\n",
            "http://youtube.com/watch?v=2Fp1N6dof0Y\n",
            "\n",
            "Visual Studio Code (Windows) – Setting up a Python Development Environment and Complete Overview\n",
            "In this Python Programming Tutorial, we will be learning how to set up a Python development environment in VSCode on Windows. VSCode is a very nice free editor for writing Python applications and many developers are now switching over to this editor. In this video, we will learn how to install VSCode, get the Python extension installed, how to change Python interpreters, create virtual environments, format/lint our code, how to use Git within VSCode, how to debug our programs, how unit testing works, and more. We have a lot to cover, so let’s go ahead and get started…\n",
            "http://youtube.com/watch?v=-nh9rCzPJ20\n",
            "\n",
            "Visual Studio Code (Mac) – Setting up a Python Development Environment and Complete Overview\n",
            "In this Python Programming Tutorial, we will be learning how to set up a Python development environment in VSCode on MacOS. VSCode is a very nice free editor for writing Python applications and many developers are now switching over to this editor. In this video, we will learn how to install VSCode, get the Python extension installed, how to change Python interpreters, create virtual environments, format/lint our code, how to use Git within VSCode, how to debug our programs, how unit testing works, and more. We have a lot to cover, so let’s go ahead and get started…\n",
            "http://youtube.com/watch?v=06I63_p-2A4\n",
            "\n",
            "Clarifying the Issues with Mutable Default Arguments\n",
            "In this Python Programming Tutorial, we will be clarifying the issues with mutable default arguments. We discussed this in my last video titled “5 Common Python Mistakes and How to Fix Them”, but I received many comments from people who were still confused. So we will be doing a deeper dive to explain exactly what is going on here. Let’s get started…\n",
            "http://youtube.com/watch?v=_JGmemuINww\n",
            "\n"
          ]
        }
      ]
    },
    {
      "cell_type": "code",
      "metadata": {
        "id": "hnvVSlqttFHD"
      },
      "source": [
        ""
      ],
      "execution_count": null,
      "outputs": []
    },
    {
      "cell_type": "code",
      "metadata": {
        "colab": {
          "base_uri": "https://localhost:8080/"
        },
        "id": "uAffwX2thAKJ",
        "outputId": "05b60edb-1f0c-4b87-f871-6a0684e7cc62"
      },
      "source": [
        "article=soup.find('article')\n",
        "vid_src = article.find('iframe')\n",
        "print('vid_src')\n",
        "if vid_src == None:\n",
        "  print('true')\n",
        "else:\n",
        "  print('false')"
      ],
      "execution_count": null,
      "outputs": [
        {
          "output_type": "stream",
          "name": "stdout",
          "text": [
            "vid_src\n",
            "false\n"
          ]
        }
      ]
    },
    {
      "cell_type": "code",
      "metadata": {
        "id": "9evzj8xUj7ye"
      },
      "source": [
        ""
      ],
      "execution_count": null,
      "outputs": []
    },
    {
      "cell_type": "code",
      "metadata": {
        "id": "u1lGniB5nI2r"
      },
      "source": [
        ""
      ],
      "execution_count": null,
      "outputs": []
    }
  ]
}